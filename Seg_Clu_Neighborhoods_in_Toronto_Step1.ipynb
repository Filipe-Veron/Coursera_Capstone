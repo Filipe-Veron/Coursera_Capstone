{
    "cells": [
        {
            "cell_type": "markdown",
            "metadata": {},
            "source": "<h1>Segmenting and Clustering Neighborhoods in Toronto - Step 1"
        },
        {
            "cell_type": "markdown",
            "metadata": {},
            "source": "For this assignment, you will be required to explore and cluster the neighborhoods in Toronto.\n\n<p><b>1-Start by creating a new Notebook for this assignment.</b></p><br>\n<p><b>2-Use the Notebook to build the code to scrape the following Wikipedia page, https://en.wikipedia.org/wiki/List_of_postal_codes_of_Canada:_M, in order to obtain the data that is in the table of postal codes and to transform the data into a pandas dataframe.</b></p><br>\n\nFor this assignment, you will be required to explore and cluster the neighborhoods in Toronto.<br><br>\n<p><b>3-To create the dataframe:</b></p>\n\n-The dataframe will consist of three columns: PostalCode, Borough, and Neighborhood.<br>\n-Only process the cells that have an assigned borough. Ignore cells with a borough that is Not assigned.<br>\n-More than one neighborhood can exist in one postal code area. \n For example, in the table on the Wikipedia page, you will notice that M5A is listed twice and has two neighborhoods: \n Harbourfront and Regent Park. These two rows will be combined into one row with the neighborhoods separated with a \n comma as shown in row 11 in the above table.<br>\n-If a cell has a borough but a Not assigned neighborhood, then the neighborhood will be the same as the borough.<br>\n-Clean your Notebook and add Markdown cells to explain your work and any assumptions you are making.<br>\n-In the last cell of your notebook, use the .shape method to print the number of rows of your dataframe.<br>\n<p><b>4-Submit a link to your Notebook on your Github repository.</b></p>\n"
        },
        {
            "cell_type": "code",
            "execution_count": 1,
            "metadata": {},
            "outputs": [],
            "source": "from bs4 import BeautifulSoup\nimport requests\nimport pandas as pd"
        },
        {
            "cell_type": "code",
            "execution_count": 2,
            "metadata": {},
            "outputs": [],
            "source": "web_link = \"https://en.wikipedia.org/wiki/List_of_postal_codes_of_Canada:_M\"\nweb_text= requests.get(web_link).text\nCanada_data = BeautifulSoup(web_text, 'lxml')"
        },
        {
            "cell_type": "code",
            "execution_count": null,
            "metadata": {},
            "outputs": [],
            "source": ""
        }
    ],
    "metadata": {
        "kernelspec": {
            "display_name": "Python 3.6",
            "language": "python",
            "name": "python3"
        },
        "language_info": {
            "codemirror_mode": {
                "name": "ipython",
                "version": 3
            },
            "file_extension": ".py",
            "mimetype": "text/x-python",
            "name": "python",
            "nbconvert_exporter": "python",
            "pygments_lexer": "ipython3",
            "version": "3.6.9"
        }
    },
    "nbformat": 4,
    "nbformat_minor": 1
}