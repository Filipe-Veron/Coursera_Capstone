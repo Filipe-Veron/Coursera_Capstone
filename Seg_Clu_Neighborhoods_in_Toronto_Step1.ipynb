{
    "cells": [
        {
            "cell_type": "markdown",
            "metadata": {},
            "source": "<h1>Segmenting and Clustering Neighborhoods in Toronto - Step 1"
        },
        {
            "cell_type": "markdown",
            "metadata": {},
            "source": "For this assignment, you will be required to explore and cluster the neighborhoods in Toronto.\n\n<p><b>1-Start by creating a new Notebook for this assignment.</b></p><br>\n<p><b>2-Use the Notebook to build the code to scrape the following Wikipedia page, https://en.wikipedia.org/wiki/List_of_postal_codes_of_Canada:_M, in order to obtain the data that is in the table of postal codes and to transform the data into a pandas dataframe.</b></p><br>\n\nFor this assignment, you will be required to explore and cluster the neighborhoods in Toronto.<br><br>\n<p><b>3-To create the dataframe:</b></p>\n\n-The dataframe will consist of three columns: PostalCode, Borough, and Neighborhood.<br>\n-Only process the cells that have an assigned borough. Ignore cells with a borough that is Not assigned.<br>\n-More than one neighborhood can exist in one postal code area. \n For example, in the table on the Wikipedia page, you will notice that M5A is listed twice and has two neighborhoods: \n Harbourfront and Regent Park. These two rows will be combined into one row with the neighborhoods separated with a \n comma as shown in row 11 in the above table.<br>\n-If a cell has a borough but a Not assigned neighborhood, then the neighborhood will be the same as the borough.<br>\n-Clean your Notebook and add Markdown cells to explain your work and any assumptions you are making.<br>\n-In the last cell of your notebook, use the .shape method to print the number of rows of your dataframe.<br>\n<p><b>4-Submit a link to your Notebook on your Github repository.</b></p>\n"
        },
        {
            "cell_type": "code",
            "execution_count": 1,
            "metadata": {},
            "outputs": [],
            "source": "from bs4 import BeautifulSoup\nimport requests\nimport pandas as pd"
        },
        {
            "cell_type": "code",
            "execution_count": 2,
            "metadata": {},
            "outputs": [],
            "source": "web_link = \"https://en.wikipedia.org/wiki/List_of_postal_codes_of_Canada:_M\"\nweb_text= requests.get(web_link).text\nCanada_data = BeautifulSoup(web_text, 'lxml')"
        },
        {
            "cell_type": "code",
            "execution_count": 3,
            "metadata": {},
            "outputs": [],
            "source": "table_columns = ['Postalcode','Borough','Neighborhood']\ntoronto = pd.DataFrame(columns = table_columns)\ncontent = Canada_data.find('div', class_='mw-parser-output')\ntable = content.table.tbody\n#table"
        },
        {
            "cell_type": "code",
            "execution_count": 4,
            "metadata": {},
            "outputs": [],
            "source": "postcode = 0\nborough = 0\nneighborhood = 0"
        },
        {
            "cell_type": "code",
            "execution_count": 5,
            "metadata": {},
            "outputs": [],
            "source": "for tr in table.find_all('tr'):\n    i = 0\n    for td in tr.find_all('td'):\n            postcode = td.text.strip('\\n')[:3]\n            borough = td.text.strip('\\n')[3:].split('(')[0]\n            neighborhood = '(' + td.text.strip('\\n')[3:].split('(')[-1]\n            neighborhood = neighborhood.replace('(Not','Not')\n            toronto = toronto.append({'Postalcode': postcode,'Borough': borough,'Neighborhood': neighborhood},ignore_index=True)"
        },
        {
            "cell_type": "code",
            "execution_count": 6,
            "metadata": {},
            "outputs": [
                {
                    "data": {
                        "text/html": "<div>\n<style scoped>\n    .dataframe tbody tr th:only-of-type {\n        vertical-align: middle;\n    }\n\n    .dataframe tbody tr th {\n        vertical-align: top;\n    }\n\n    .dataframe thead th {\n        text-align: right;\n    }\n</style>\n<table border=\"1\" class=\"dataframe\">\n  <thead>\n    <tr style=\"text-align: right;\">\n      <th></th>\n      <th>Postalcode</th>\n      <th>Borough</th>\n      <th>Neighborhood</th>\n    </tr>\n  </thead>\n  <tbody>\n    <tr>\n      <th>0</th>\n      <td>M1B</td>\n      <td>Scarborough</td>\n      <td>(Malvern / Rouge)</td>\n    </tr>\n    <tr>\n      <th>1</th>\n      <td>M1C</td>\n      <td>Scarborough</td>\n      <td>(Rouge Hill / Port Union / Highland Creek)</td>\n    </tr>\n    <tr>\n      <th>2</th>\n      <td>M1E</td>\n      <td>Scarborough</td>\n      <td>(Guildwood / Morningside / West Hill)</td>\n    </tr>\n    <tr>\n      <th>3</th>\n      <td>M1G</td>\n      <td>Scarborough</td>\n      <td>(Woburn)</td>\n    </tr>\n    <tr>\n      <th>4</th>\n      <td>M1H</td>\n      <td>Scarborough</td>\n      <td>(Cedarbrae)</td>\n    </tr>\n    <tr>\n      <th>5</th>\n      <td>M1J</td>\n      <td>Scarborough</td>\n      <td>(Scarborough Village)</td>\n    </tr>\n    <tr>\n      <th>6</th>\n      <td>M1K</td>\n      <td>Scarborough</td>\n      <td>(Kennedy Park / Ionview / East Birchmount Park)</td>\n    </tr>\n    <tr>\n      <th>7</th>\n      <td>M1L</td>\n      <td>Scarborough</td>\n      <td>(Golden Mile / Clairlea / Oakridge)</td>\n    </tr>\n    <tr>\n      <th>8</th>\n      <td>M1M</td>\n      <td>Scarborough</td>\n      <td>(Cliffside / Cliffcrest / Scarborough Village ...</td>\n    </tr>\n    <tr>\n      <th>9</th>\n      <td>M1N</td>\n      <td>Scarborough</td>\n      <td>(Birch Cliff / Cliffside West)</td>\n    </tr>\n  </tbody>\n</table>\n</div>",
                        "text/plain": "  Postalcode      Borough                                       Neighborhood\n0        M1B  Scarborough                                  (Malvern / Rouge)\n1        M1C  Scarborough         (Rouge Hill / Port Union / Highland Creek)\n2        M1E  Scarborough              (Guildwood / Morningside / West Hill)\n3        M1G  Scarborough                                           (Woburn)\n4        M1H  Scarborough                                        (Cedarbrae)\n5        M1J  Scarborough                              (Scarborough Village)\n6        M1K  Scarborough    (Kennedy Park / Ionview / East Birchmount Park)\n7        M1L  Scarborough                (Golden Mile / Clairlea / Oakridge)\n8        M1M  Scarborough  (Cliffside / Cliffcrest / Scarborough Village ...\n9        M1N  Scarborough                     (Birch Cliff / Cliffside West)"
                    },
                    "execution_count": 6,
                    "metadata": {},
                    "output_type": "execute_result"
                }
            ],
            "source": "# Ignore cells with a borough that is Not assigned\ntoronto = toronto[toronto.Borough!='Not assigned']\ntoronto = toronto[toronto.Borough!= 0]\ntoronto.reset_index(drop = True, inplace = True)\ni = 0\nfor i in range(0,toronto.shape[0]):\n    if toronto.iloc[i][2] == 'Not assigned':\n        toronto.iloc[i][2] = toronto.iloc[i][1]\n        i = i+1                               \ndf = toronto.groupby(['Postalcode','Borough'])['Neighborhood'].apply(', '.join).reset_index()\ndf.head(10)"
        },
        {
            "cell_type": "code",
            "execution_count": 7,
            "metadata": {},
            "outputs": [
                {
                    "data": {
                        "text/html": "<div>\n<style scoped>\n    .dataframe tbody tr th:only-of-type {\n        vertical-align: middle;\n    }\n\n    .dataframe tbody tr th {\n        vertical-align: top;\n    }\n\n    .dataframe thead th {\n        text-align: right;\n    }\n</style>\n<table border=\"1\" class=\"dataframe\">\n  <thead>\n    <tr style=\"text-align: right;\">\n      <th></th>\n      <th>Postalcode</th>\n      <th>Borough</th>\n      <th>Neighborhood</th>\n    </tr>\n  </thead>\n  <tbody>\n    <tr>\n      <th>0</th>\n      <td>M1B</td>\n      <td>Scarborough</td>\n      <td>(Malvern / Rouge)</td>\n    </tr>\n    <tr>\n      <th>1</th>\n      <td>M1C</td>\n      <td>Scarborough</td>\n      <td>(Rouge Hill / Port Union / Highland Creek)</td>\n    </tr>\n    <tr>\n      <th>2</th>\n      <td>M1E</td>\n      <td>Scarborough</td>\n      <td>(Guildwood / Morningside / West Hill)</td>\n    </tr>\n    <tr>\n      <th>3</th>\n      <td>M1G</td>\n      <td>Scarborough</td>\n      <td>(Woburn)</td>\n    </tr>\n    <tr>\n      <th>4</th>\n      <td>M1H</td>\n      <td>Scarborough</td>\n      <td>(Cedarbrae)</td>\n    </tr>\n    <tr>\n      <th>5</th>\n      <td>M1J</td>\n      <td>Scarborough</td>\n      <td>(Scarborough Village)</td>\n    </tr>\n    <tr>\n      <th>6</th>\n      <td>M1K</td>\n      <td>Scarborough</td>\n      <td>(Kennedy Park / Ionview / East Birchmount Park)</td>\n    </tr>\n    <tr>\n      <th>7</th>\n      <td>M1L</td>\n      <td>Scarborough</td>\n      <td>(Golden Mile / Clairlea / Oakridge)</td>\n    </tr>\n    <tr>\n      <th>8</th>\n      <td>M1M</td>\n      <td>Scarborough</td>\n      <td>(Cliffside / Cliffcrest / Scarborough Village ...</td>\n    </tr>\n    <tr>\n      <th>9</th>\n      <td>M1N</td>\n      <td>Scarborough</td>\n      <td>(Birch Cliff / Cliffside West)</td>\n    </tr>\n  </tbody>\n</table>\n</div>",
                        "text/plain": "  Postalcode      Borough                                       Neighborhood\n0        M1B  Scarborough                                  (Malvern / Rouge)\n1        M1C  Scarborough         (Rouge Hill / Port Union / Highland Creek)\n2        M1E  Scarborough              (Guildwood / Morningside / West Hill)\n3        M1G  Scarborough                                           (Woburn)\n4        M1H  Scarborough                                        (Cedarbrae)\n5        M1J  Scarborough                              (Scarborough Village)\n6        M1K  Scarborough    (Kennedy Park / Ionview / East Birchmount Park)\n7        M1L  Scarborough                (Golden Mile / Clairlea / Oakridge)\n8        M1M  Scarborough  (Cliffside / Cliffcrest / Scarborough Village ...\n9        M1N  Scarborough                     (Birch Cliff / Cliffside West)"
                    },
                    "execution_count": 7,
                    "metadata": {},
                    "output_type": "execute_result"
                }
            ],
            "source": "df = df.dropna()\nempty = 'Not assigned'\ndf = df[(df.Postalcode != empty ) & (df.Borough != empty) & (df.Neighborhood != empty)]\ndf.head(10)"
        },
        {
            "cell_type": "code",
            "execution_count": 8,
            "metadata": {},
            "outputs": [
                {
                    "data": {
                        "text/plain": "(103, 3)"
                    },
                    "execution_count": 8,
                    "metadata": {},
                    "output_type": "execute_result"
                }
            ],
            "source": "df.shape"
        },
        {
            "cell_type": "code",
            "execution_count": null,
            "metadata": {},
            "outputs": [],
            "source": ""
        }
    ],
    "metadata": {
        "kernelspec": {
            "display_name": "Python 3.6",
            "language": "python",
            "name": "python3"
        },
        "language_info": {
            "codemirror_mode": {
                "name": "ipython",
                "version": 3
            },
            "file_extension": ".py",
            "mimetype": "text/x-python",
            "name": "python",
            "nbconvert_exporter": "python",
            "pygments_lexer": "ipython3",
            "version": "3.6.9"
        }
    },
    "nbformat": 4,
    "nbformat_minor": 1
}