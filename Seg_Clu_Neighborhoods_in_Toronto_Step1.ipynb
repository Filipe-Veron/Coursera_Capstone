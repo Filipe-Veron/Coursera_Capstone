{
    "cells": [
        {
            "cell_type": "markdown",
            "metadata": {
                "collapsed": true
            },
            "source": "<h1>Segmenting and Clustering Neighborhoods in Toronto - Step 1"
        },
        {
            "cell_type": "markdown",
            "metadata": {},
            "source": "For this assignment, you will be required to explore and cluster the neighborhoods in Toronto.\n\n1-Start by creating a new Notebook for this assignment.<br>\n2-Use the Notebook to build the code to scrape the following Wikipedia page, https://en.wikipedia.org/wiki/List_of_postal_codes_of_Canada:_M, in order to obtain the data that is in the table of postal codes and to transform the data into a pandas dataframe.<br>\n\nFor this assignment, you will be required to explore and cluster the neighborhoods in Toronto.<br><br>\n3-To create the dataframe:\n\n    -The dataframe will consist of three columns: PostalCode, Borough, and Neighborhood\n    -Only process the cells that have an assigned borough. Ignore cells with a borough that is Not assigned.\n    -More than one neighborhood can exist in one postal code area. \n        For example, in the table on the Wikipedia page, you will notice that M5A is listed twice and has two neighborhoods: \n        Harbourfront and Regent Park. These two rows will be combined into one row with the neighborhoods separated with a \n        comma as shown in row 11 in the above table.\n    -If a cell has a borough but a Not assigned neighborhood, then the neighborhood will be the same as the borough.\n    -Clean your Notebook and add Markdown cells to explain your work and any assumptions you are making.\n    -In the last cell of your notebook, use the .shape method to print the number of rows of your dataframe.\n4-Submit a link to your Notebook on your Github repository.\n"
        },
        {
            "cell_type": "markdown",
            "metadata": {},
            "source": "<h3>Questions 1 and 2"
        },
        {
            "cell_type": "code",
            "execution_count": 2,
            "metadata": {},
            "outputs": [],
            "source": "import pandas as pd\nimport numpy as np\nfrom bs4 import BeautifulSoup\nimport requests"
        },
        {
            "cell_type": "code",
            "execution_count": 3,
            "metadata": {},
            "outputs": [],
            "source": "web_link = \"https://en.wikipedia.org/wiki/List_of_postal_codes_of_Canada:_M\"\nweb_text= requests.get(web_link).text\nCanada_data = BeautifulSoup(web_text, 'lxml')"
        },
        {
            "cell_type": "markdown",
            "metadata": {},
            "source": "<h3>Question 3"
        },
        {
            "cell_type": "code",
            "execution_count": 4,
            "metadata": {},
            "outputs": [
                {
                    "data": {
                        "text/html": "<div>\n<style scoped>\n    .dataframe tbody tr th:only-of-type {\n        vertical-align: middle;\n    }\n\n    .dataframe tbody tr th {\n        vertical-align: top;\n    }\n\n    .dataframe thead th {\n        text-align: right;\n    }\n</style>\n<table border=\"1\" class=\"dataframe\">\n  <thead>\n    <tr style=\"text-align: right;\">\n      <th></th>\n      <th>Postalcode</th>\n      <th>Borough</th>\n      <th>Neighborhood</th>\n    </tr>\n  </thead>\n  <tbody>\n    <tr>\n      <th>0</th>\n      <td>\\nM1ANot assigned\\n\\n</td>\n      <td>\\nM2ANot assigned\\n\\n</td>\n      <td>M9AEtobicoke(Islington Avenue)</td>\n    </tr>\n    <tr>\n      <th>1</th>\n      <td>\\nM1BScarborough(Malvern / Rouge)\\n\\n</td>\n      <td>\\nM2BNot assigned\\n\\n</td>\n      <td>M9BEtobicoke(West Deane Park / Princess Garden...</td>\n    </tr>\n    <tr>\n      <th>2</th>\n      <td>\\nM1CScarborough(Rouge Hill / Port Union / Hig...</td>\n      <td>\\nM2CNot assigned\\n\\n</td>\n      <td>M9CEtobicoke(Eringate / Bloordale Gardens / Ol...</td>\n    </tr>\n    <tr>\n      <th>3</th>\n      <td>\\nM1EScarborough(Guildwood / Morningside / Wes...</td>\n      <td>\\nM2ENot assigned\\n\\n</td>\n      <td>M9ENot assigned</td>\n    </tr>\n    <tr>\n      <th>4</th>\n      <td>\\nM1GScarborough(Woburn)\\n\\n</td>\n      <td>\\nM2GNot assigned\\n\\n</td>\n      <td>M9GNot assigned</td>\n    </tr>\n    <tr>\n      <th>5</th>\n      <td>\\nM1HScarborough(Cedarbrae)\\n\\n</td>\n      <td>\\nM2HNorth York(Hillcrest Village)\\n\\n</td>\n      <td>M9HNot assigned</td>\n    </tr>\n    <tr>\n      <th>6</th>\n      <td>\\nM1JScarborough(Scarborough Village)\\n\\n</td>\n      <td>\\nM2JNorth York(Fairview / Henry Farm / Oriole...</td>\n      <td>M9JNot assigned</td>\n    </tr>\n    <tr>\n      <th>7</th>\n      <td>\\nM1KScarborough(Kennedy Park / Ionview / East...</td>\n      <td>\\nM2KNorth York(Bayview Village)\\n\\n</td>\n      <td>M9KNot assigned</td>\n    </tr>\n    <tr>\n      <th>8</th>\n      <td>\\nM1LScarborough(Golden Mile / Clairlea / Oakr...</td>\n      <td>\\nM2LNorth York(York Mills / Silver Hills)\\n\\n</td>\n      <td>M9LNorth York(Humber Summit)</td>\n    </tr>\n    <tr>\n      <th>9</th>\n      <td>\\nM1MScarborough(Cliffside / Cliffcrest / Scar...</td>\n      <td>\\nM2MNorth York(Willowdale / Newtonbrook)\\n\\n</td>\n      <td>M9MNorth York(Humberlea / Emery)</td>\n    </tr>\n  </tbody>\n</table>\n</div>",
                        "text/plain": "                                          Postalcode  \\\n0                              \\nM1ANot assigned\\n\\n   \n1              \\nM1BScarborough(Malvern / Rouge)\\n\\n   \n2  \\nM1CScarborough(Rouge Hill / Port Union / Hig...   \n3  \\nM1EScarborough(Guildwood / Morningside / Wes...   \n4                       \\nM1GScarborough(Woburn)\\n\\n   \n5                    \\nM1HScarborough(Cedarbrae)\\n\\n   \n6          \\nM1JScarborough(Scarborough Village)\\n\\n   \n7  \\nM1KScarborough(Kennedy Park / Ionview / East...   \n8  \\nM1LScarborough(Golden Mile / Clairlea / Oakr...   \n9  \\nM1MScarborough(Cliffside / Cliffcrest / Scar...   \n\n                                             Borough  \\\n0                              \\nM2ANot assigned\\n\\n   \n1                              \\nM2BNot assigned\\n\\n   \n2                              \\nM2CNot assigned\\n\\n   \n3                              \\nM2ENot assigned\\n\\n   \n4                              \\nM2GNot assigned\\n\\n   \n5             \\nM2HNorth York(Hillcrest Village)\\n\\n   \n6  \\nM2JNorth York(Fairview / Henry Farm / Oriole...   \n7               \\nM2KNorth York(Bayview Village)\\n\\n   \n8     \\nM2LNorth York(York Mills / Silver Hills)\\n\\n   \n9      \\nM2MNorth York(Willowdale / Newtonbrook)\\n\\n   \n\n                                        Neighborhood  \n0                     M9AEtobicoke(Islington Avenue)  \n1  M9BEtobicoke(West Deane Park / Princess Garden...  \n2  M9CEtobicoke(Eringate / Bloordale Gardens / Ol...  \n3                                    M9ENot assigned  \n4                                    M9GNot assigned  \n5                                    M9HNot assigned  \n6                                    M9JNot assigned  \n7                                    M9KNot assigned  \n8                       M9LNorth York(Humber Summit)  \n9                   M9MNorth York(Humberlea / Emery)  "
                    },
                    "execution_count": 4,
                    "metadata": {},
                    "output_type": "execute_result"
                }
            ],
            "source": "table_columns = ['Postalcode','Borough','Neighborhood']\ntoronto = pd.DataFrame(columns = table_columns)\ncontent = Canada_data.find('div', class_='mw-parser-output')\ntable = content.table.tbody\npostcode = 0\nborough = 0\nneighborhood = 0\n\nfor tr in table.find_all('tr'):\n    i = 0\n    for td in tr.find_all('td'):\n        if i == 0:\n            postcode = td.text\n            i = i + 1\n        elif i == 1:\n            borough = td.text\n            i = i + 1\n        elif i == 2: \n            neighborhood = td.text.strip('\\n').replace(']','')\n    toronto = toronto.append({'Postalcode': postcode,'Borough': borough,'Neighborhood': neighborhood},ignore_index=True)\n\n# Ignore cells with a borough that is Not assigned\ntoronto = toronto[toronto.Borough!='Not assigned']\ntoronto = toronto[toronto.Borough!= 0]\ntoronto.reset_index(drop = True, inplace = True)\ni = 0\nfor i in range(0,toronto.shape[0]):\n    if toronto.iloc[i][2] == 'Not assigned':\n        toronto.iloc[i][2] = toronto.iloc[i][1]\n        i = i+1                               \ndf = toronto.groupby(['Postalcode','Borough'])['Neighborhood'].apply(', '.join).reset_index()\ndf.head(10)"
        },
        {
            "cell_type": "code",
            "execution_count": 5,
            "metadata": {},
            "outputs": [
                {
                    "data": {
                        "text/html": "<div>\n<style scoped>\n    .dataframe tbody tr th:only-of-type {\n        vertical-align: middle;\n    }\n\n    .dataframe tbody tr th {\n        vertical-align: top;\n    }\n\n    .dataframe thead th {\n        text-align: right;\n    }\n</style>\n<table border=\"1\" class=\"dataframe\">\n  <thead>\n    <tr style=\"text-align: right;\">\n      <th></th>\n      <th>Postalcode</th>\n      <th>Borough</th>\n      <th>Neighborhood</th>\n    </tr>\n  </thead>\n  <tbody>\n    <tr>\n      <th>0</th>\n      <td>\\nM1ANot assigned\\n\\n</td>\n      <td>\\nM2ANot assigned\\n\\n</td>\n      <td>M9AEtobicoke(Islington Avenue)</td>\n    </tr>\n    <tr>\n      <th>1</th>\n      <td>\\nM1BScarborough(Malvern / Rouge)\\n\\n</td>\n      <td>\\nM2BNot assigned\\n\\n</td>\n      <td>M9BEtobicoke(West Deane Park / Princess Garden...</td>\n    </tr>\n    <tr>\n      <th>2</th>\n      <td>\\nM1CScarborough(Rouge Hill / Port Union / Hig...</td>\n      <td>\\nM2CNot assigned\\n\\n</td>\n      <td>M9CEtobicoke(Eringate / Bloordale Gardens / Ol...</td>\n    </tr>\n    <tr>\n      <th>3</th>\n      <td>\\nM1EScarborough(Guildwood / Morningside / Wes...</td>\n      <td>\\nM2ENot assigned\\n\\n</td>\n      <td>M9ENot assigned</td>\n    </tr>\n    <tr>\n      <th>4</th>\n      <td>\\nM1GScarborough(Woburn)\\n\\n</td>\n      <td>\\nM2GNot assigned\\n\\n</td>\n      <td>M9GNot assigned</td>\n    </tr>\n    <tr>\n      <th>5</th>\n      <td>\\nM1HScarborough(Cedarbrae)\\n\\n</td>\n      <td>\\nM2HNorth York(Hillcrest Village)\\n\\n</td>\n      <td>M9HNot assigned</td>\n    </tr>\n    <tr>\n      <th>6</th>\n      <td>\\nM1JScarborough(Scarborough Village)\\n\\n</td>\n      <td>\\nM2JNorth York(Fairview / Henry Farm / Oriole...</td>\n      <td>M9JNot assigned</td>\n    </tr>\n    <tr>\n      <th>7</th>\n      <td>\\nM1KScarborough(Kennedy Park / Ionview / East...</td>\n      <td>\\nM2KNorth York(Bayview Village)\\n\\n</td>\n      <td>M9KNot assigned</td>\n    </tr>\n    <tr>\n      <th>8</th>\n      <td>\\nM1LScarborough(Golden Mile / Clairlea / Oakr...</td>\n      <td>\\nM2LNorth York(York Mills / Silver Hills)\\n\\n</td>\n      <td>M9LNorth York(Humber Summit)</td>\n    </tr>\n    <tr>\n      <th>9</th>\n      <td>\\nM1MScarborough(Cliffside / Cliffcrest / Scar...</td>\n      <td>\\nM2MNorth York(Willowdale / Newtonbrook)\\n\\n</td>\n      <td>M9MNorth York(Humberlea / Emery)</td>\n    </tr>\n  </tbody>\n</table>\n</div>",
                        "text/plain": "                                          Postalcode  \\\n0                              \\nM1ANot assigned\\n\\n   \n1              \\nM1BScarborough(Malvern / Rouge)\\n\\n   \n2  \\nM1CScarborough(Rouge Hill / Port Union / Hig...   \n3  \\nM1EScarborough(Guildwood / Morningside / Wes...   \n4                       \\nM1GScarborough(Woburn)\\n\\n   \n5                    \\nM1HScarborough(Cedarbrae)\\n\\n   \n6          \\nM1JScarborough(Scarborough Village)\\n\\n   \n7  \\nM1KScarborough(Kennedy Park / Ionview / East...   \n8  \\nM1LScarborough(Golden Mile / Clairlea / Oakr...   \n9  \\nM1MScarborough(Cliffside / Cliffcrest / Scar...   \n\n                                             Borough  \\\n0                              \\nM2ANot assigned\\n\\n   \n1                              \\nM2BNot assigned\\n\\n   \n2                              \\nM2CNot assigned\\n\\n   \n3                              \\nM2ENot assigned\\n\\n   \n4                              \\nM2GNot assigned\\n\\n   \n5             \\nM2HNorth York(Hillcrest Village)\\n\\n   \n6  \\nM2JNorth York(Fairview / Henry Farm / Oriole...   \n7               \\nM2KNorth York(Bayview Village)\\n\\n   \n8     \\nM2LNorth York(York Mills / Silver Hills)\\n\\n   \n9      \\nM2MNorth York(Willowdale / Newtonbrook)\\n\\n   \n\n                                        Neighborhood  \n0                     M9AEtobicoke(Islington Avenue)  \n1  M9BEtobicoke(West Deane Park / Princess Garden...  \n2  M9CEtobicoke(Eringate / Bloordale Gardens / Ol...  \n3                                    M9ENot assigned  \n4                                    M9GNot assigned  \n5                                    M9HNot assigned  \n6                                    M9JNot assigned  \n7                                    M9KNot assigned  \n8                       M9LNorth York(Humber Summit)  \n9                   M9MNorth York(Humberlea / Emery)  "
                    },
                    "execution_count": 5,
                    "metadata": {},
                    "output_type": "execute_result"
                }
            ],
            "source": "df = df.dropna()\nempty = 'Not assigned'\ndf = df[(df.Postalcode != empty ) & (df.Borough != empty) & (df.Neighborhood != empty)]\ndf.head(10)"
        },
        {
            "cell_type": "code",
            "execution_count": 6,
            "metadata": {},
            "outputs": [
                {
                    "data": {
                        "text/plain": "(20, 3)"
                    },
                    "execution_count": 6,
                    "metadata": {},
                    "output_type": "execute_result"
                }
            ],
            "source": "df.shape"
        },
        {
            "cell_type": "code",
            "execution_count": null,
            "metadata": {},
            "outputs": [],
            "source": ""
        }
    ],
    "metadata": {
        "kernelspec": {
            "display_name": "Python 3.6",
            "language": "python",
            "name": "python3"
        },
        "language_info": {
            "codemirror_mode": {
                "name": "ipython",
                "version": 3
            },
            "file_extension": ".py",
            "mimetype": "text/x-python",
            "name": "python",
            "nbconvert_exporter": "python",
            "pygments_lexer": "ipython3",
            "version": "3.6.9"
        }
    },
    "nbformat": 4,
    "nbformat_minor": 1
}